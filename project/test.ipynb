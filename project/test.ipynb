{
 "cells": [
  {
   "cell_type": "markdown",
   "metadata": {},
   "source": [
    "Attention:This notebook is used for testing the libraries.<br>\n",
    "In this test, we use the Titanic dataset. I download the dataset in <https://www.kaggle.com/competitions/titanic/data>.<br>\n",
    "If you want to know how the libraries work, you don't have to look the notebook.<br>\n",
    "I only test the new function in the libraries, you can test other function by youself.when you find out a bug or a mistake in translation, you can contact me by <br> <zhangjiexi66696@outlook.com>"
   ]
  },
  {
   "cell_type": "code",
   "execution_count": 1,
   "metadata": {},
   "outputs": [],
   "source": [
    "import numpy as np\n",
    "import pandas as pd\n",
    "import sklearn.linear_model as linear_model\n",
    "import sklearn.ensemble as ensemble\n",
    "import sklearn.model_selection as model_selection\n",
    "import gc \n",
    "import copy\n",
    "\n",
    "import DataProTool_cn as tools"
   ]
  },
  {
   "cell_type": "code",
   "execution_count": null,
   "metadata": {},
   "outputs": [],
   "source": [
    "train_load = pd.read_csv(\"./test_data/train.csv\")\n",
    "labels = train_load[\"Survived\"]\n",
    "train = train_load.copy(deep=True)\n",
    "\n",
    "test_load = pd.read_csv(\"./test_data/train.csv\")\n",
    "test = test_load.copy(deep=True)"
   ]
  },
  {
   "cell_type": "code",
   "execution_count": null,
   "metadata": {},
   "outputs": [],
   "source": [
    "train"
   ]
  },
  {
   "cell_type": "code",
   "execution_count": null,
   "metadata": {},
   "outputs": [],
   "source": [
    "f = tools.FreatureDerivation()"
   ]
  },
  {
   "cell_type": "code",
   "execution_count": null,
   "metadata": {},
   "outputs": [],
   "source": [
    "\n",
    "f.target_encode_derivation(data=train,maincol=[\"Sex\"],label_aggs={\"Survived\":[\"ALL-num\"]},kfold_length = 12)"
   ]
  },
  {
   "cell_type": "code",
   "execution_count": null,
   "metadata": {},
   "outputs": [],
   "source": [
    "f.four_arithmetic_feature_derivation(data=train[[\"Age\",\"Fare\"]])"
   ]
  },
  {
   "cell_type": "code",
   "execution_count": null,
   "metadata": {},
   "outputs": [],
   "source": [
    "f.cross_combination_feature_derivation(train,[\"Sex\",\"Embarked\",\"SibSp\"],False)"
   ]
  },
  {
   "cell_type": "code",
   "execution_count": null,
   "metadata": {},
   "outputs": [],
   "source": []
  }
 ],
 "metadata": {
  "kernelspec": {
   "display_name": "Python 3.10.8 64-bit",
   "language": "python",
   "name": "python3"
  },
  "language_info": {
   "codemirror_mode": {
    "name": "ipython",
    "version": 3
   },
   "file_extension": ".py",
   "mimetype": "text/x-python",
   "name": "python",
   "nbconvert_exporter": "python",
   "pygments_lexer": "ipython3",
   "version": "3.10.8"
  },
  "orig_nbformat": 4,
  "vscode": {
   "interpreter": {
    "hash": "62aca559edb9be017d1050f5f4213fbaa3953a76821b1d13dff8932131bb099c"
   }
  }
 },
 "nbformat": 4,
 "nbformat_minor": 2
}
